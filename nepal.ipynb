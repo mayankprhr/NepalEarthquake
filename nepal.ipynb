{
 "cells": [
  {
   "attachments": {},
   "cell_type": "markdown",
   "metadata": {},
   "source": [
    "# Nepal Earthquake"
   ]
  },
  {
   "attachments": {},
   "cell_type": "markdown",
   "metadata": {},
   "source": [
    "### Import Libraries and Set Data Source "
   ]
  },
  {
   "cell_type": "code",
   "execution_count": 29,
   "metadata": {},
   "outputs": [],
   "source": [
    "import warnings\n",
    "import matplotlib.pyplot as plt\n",
    "import numpy as np\n",
    "import pandas as pd\n",
    "import seaborn as sns\n",
    "import zipfile\n",
    "from category_encoders import OneHotEncoder\n",
    "from IPython.display import VimeoVideo\n",
    "from sklearn.linear_model import LogisticRegression\n",
    "from sklearn.metrics import accuracy_score\n",
    "from sklearn.model_selection import train_test_split\n",
    "from sklearn.pipeline import Pipeline, make_pipeline\n",
    "from sklearn.utils.validation import check_is_fitted"
   ]
  },
  {
   "cell_type": "code",
   "execution_count": 30,
   "metadata": {},
   "outputs": [
    {
     "name": "stdout",
     "output_type": "stream",
     "text": [
      "The sql extension is already loaded. To reload it, use:\n",
      "  %reload_ext sql\n"
     ]
    }
   ],
   "source": [
    "import sqlite3\n",
    "%load_ext sql\n",
    "%sql sqlite:///nepalDB.db"
   ]
  },
  {
   "cell_type": "code",
   "execution_count": 31,
   "metadata": {},
   "outputs": [
    {
     "name": "stdout",
     "output_type": "stream",
     "text": [
      " * sqlite:///nepalDB.db\n",
      "Done.\n"
     ]
    },
    {
     "data": {
      "text/html": [
       "<table>\n",
       "    <tr>\n",
       "        <th>household_id</th>\n",
       "        <th>district_id</th>\n",
       "        <th>vdcmun_id</th>\n",
       "        <th>building_id</th>\n",
       "    </tr>\n",
       "    <tr>\n",
       "        <td>12010100001101</td>\n",
       "        <td>12</td>\n",
       "        <td>1207</td>\n",
       "        <td>1</td>\n",
       "    </tr>\n",
       "    <tr>\n",
       "        <td>12010100002101</td>\n",
       "        <td>12</td>\n",
       "        <td>1207</td>\n",
       "        <td>2</td>\n",
       "    </tr>\n",
       "    <tr>\n",
       "        <td>12010100003101</td>\n",
       "        <td>12</td>\n",
       "        <td>1207</td>\n",
       "        <td>3</td>\n",
       "    </tr>\n",
       "    <tr>\n",
       "        <td>12010100004101</td>\n",
       "        <td>12</td>\n",
       "        <td>1207</td>\n",
       "        <td>4</td>\n",
       "    </tr>\n",
       "    <tr>\n",
       "        <td>12010100005101</td>\n",
       "        <td>12</td>\n",
       "        <td>1207</td>\n",
       "        <td>5</td>\n",
       "    </tr>\n",
       "</table>"
      ],
      "text/plain": [
       "[(12010100001101, 12, 1207, 1),\n",
       " (12010100002101, 12, 1207, 2),\n",
       " (12010100003101, 12, 1207, 3),\n",
       " (12010100004101, 12, 1207, 4),\n",
       " (12010100005101, 12, 1207, 5)]"
      ]
     },
     "execution_count": 31,
     "metadata": {},
     "output_type": "execute_result"
    }
   ],
   "source": [
    "%%sql\n",
    "select * from id_map limit 5"
   ]
  },
  {
   "attachments": {},
   "cell_type": "markdown",
   "metadata": {},
   "source": [
    "### Prepare Data"
   ]
  },
  {
   "cell_type": "code",
   "execution_count": 32,
   "metadata": {},
   "outputs": [
    {
     "name": "stdout",
     "output_type": "stream",
     "text": [
      " * sqlite:///nepalDB.db\n",
      "Done.\n"
     ]
    },
    {
     "data": {
      "text/html": [
       "<table>\n",
       "    <tr>\n",
       "        <th>district_id</th>\n",
       "    </tr>\n",
       "    <tr>\n",
       "        <td>12</td>\n",
       "    </tr>\n",
       "    <tr>\n",
       "        <td>20</td>\n",
       "    </tr>\n",
       "    <tr>\n",
       "        <td>21</td>\n",
       "    </tr>\n",
       "    <tr>\n",
       "        <td>22</td>\n",
       "    </tr>\n",
       "    <tr>\n",
       "        <td>23</td>\n",
       "    </tr>\n",
       "    <tr>\n",
       "        <td>24</td>\n",
       "    </tr>\n",
       "    <tr>\n",
       "        <td>28</td>\n",
       "    </tr>\n",
       "    <tr>\n",
       "        <td>29</td>\n",
       "    </tr>\n",
       "    <tr>\n",
       "        <td>30</td>\n",
       "    </tr>\n",
       "    <tr>\n",
       "        <td>31</td>\n",
       "    </tr>\n",
       "    <tr>\n",
       "        <td>36</td>\n",
       "    </tr>\n",
       "</table>"
      ],
      "text/plain": [
       "[(12,), (20,), (21,), (22,), (23,), (24,), (28,), (29,), (30,), (31,), (36,)]"
      ]
     },
     "execution_count": 32,
     "metadata": {},
     "output_type": "execute_result"
    }
   ],
   "source": [
    "%%sql\n",
    "select distinct (district_id) from id_map"
   ]
  },
  {
   "cell_type": "code",
   "execution_count": 33,
   "metadata": {},
   "outputs": [
    {
     "name": "stdout",
     "output_type": "stream",
     "text": [
      " * sqlite:///nepalDB.db\n",
      "Done.\n"
     ]
    },
    {
     "data": {
      "text/html": [
       "<table>\n",
       "    <tr>\n",
       "        <th>count(distinct(building_id))</th>\n",
       "    </tr>\n",
       "    <tr>\n",
       "        <td>747365</td>\n",
       "    </tr>\n",
       "</table>"
      ],
      "text/plain": [
       "[(747365,)]"
      ]
     },
     "execution_count": 33,
     "metadata": {},
     "output_type": "execute_result"
    }
   ],
   "source": [
    "%sql select count(distinct(building_id)) from id_map"
   ]
  },
  {
   "cell_type": "code",
   "execution_count": 34,
   "metadata": {},
   "outputs": [
    {
     "name": "stdout",
     "output_type": "stream",
     "text": [
      " * sqlite:///nepalDB.db\n",
      "Done.\n"
     ]
    },
    {
     "data": {
      "text/html": [
       "<table>\n",
       "    <tr>\n",
       "        <th>b_id</th>\n",
       "        <th>building_id</th>\n",
       "        <th>district_id</th>\n",
       "        <th>vdcmun_id</th>\n",
       "        <th>ward_id</th>\n",
       "        <th>count_floors_pre_eq</th>\n",
       "        <th>count_floors_post_eq</th>\n",
       "        <th>age_building</th>\n",
       "        <th>plinth_area_sq_ft</th>\n",
       "        <th>height_ft_pre_eq</th>\n",
       "        <th>height_ft_post_eq</th>\n",
       "        <th>land_surface_condition</th>\n",
       "        <th>foundation_type</th>\n",
       "        <th>roof_type</th>\n",
       "        <th>ground_floor_type</th>\n",
       "        <th>other_floor_type</th>\n",
       "        <th>position</th>\n",
       "        <th>plan_configuration</th>\n",
       "        <th>condition_post_eq</th>\n",
       "        <th>superstructure</th>\n",
       "        <th>damage_grade</th>\n",
       "    </tr>\n",
       "    <tr>\n",
       "        <td>671455</td>\n",
       "        <td>360101000011</td>\n",
       "        <td>36</td>\n",
       "        <td>3609</td>\n",
       "        <td>360903</td>\n",
       "        <td>1</td>\n",
       "        <td>0</td>\n",
       "        <td>40</td>\n",
       "        <td>336</td>\n",
       "        <td>6</td>\n",
       "        <td>0</td>\n",
       "        <td>Flat</td>\n",
       "        <td>Mud mortar-Stone/Brick</td>\n",
       "        <td>Bamboo/Timber-Light roof</td>\n",
       "        <td>Mud</td>\n",
       "        <td>Not applicable</td>\n",
       "        <td>Not attached</td>\n",
       "        <td>Rectangular</td>\n",
       "        <td>0</td>\n",
       "        <td>1</td>\n",
       "        <td>Grade 5</td>\n",
       "    </tr>\n",
       "    <tr>\n",
       "        <td>671456</td>\n",
       "        <td>360101000021</td>\n",
       "        <td>36</td>\n",
       "        <td>3609</td>\n",
       "        <td>360903</td>\n",
       "        <td>2</td>\n",
       "        <td>2</td>\n",
       "        <td>12</td>\n",
       "        <td>420</td>\n",
       "        <td>13</td>\n",
       "        <td>13</td>\n",
       "        <td>Flat</td>\n",
       "        <td>Mud mortar-Stone/Brick</td>\n",
       "        <td>Bamboo/Timber-Light roof</td>\n",
       "        <td>Mud</td>\n",
       "        <td>TImber/Bamboo-Mud</td>\n",
       "        <td>Not attached</td>\n",
       "        <td>Rectangular</td>\n",
       "        <td>0</td>\n",
       "        <td>1</td>\n",
       "        <td>Grade 3</td>\n",
       "    </tr>\n",
       "    <tr>\n",
       "        <td>671457</td>\n",
       "        <td>360101000031</td>\n",
       "        <td>36</td>\n",
       "        <td>3609</td>\n",
       "        <td>360903</td>\n",
       "        <td>3</td>\n",
       "        <td>3</td>\n",
       "        <td>20</td>\n",
       "        <td>560</td>\n",
       "        <td>18</td>\n",
       "        <td>18</td>\n",
       "        <td>Flat</td>\n",
       "        <td>Mud mortar-Stone/Brick</td>\n",
       "        <td>Bamboo/Timber-Light roof</td>\n",
       "        <td>Mud</td>\n",
       "        <td>TImber/Bamboo-Mud</td>\n",
       "        <td>Not attached</td>\n",
       "        <td>Rectangular</td>\n",
       "        <td>0</td>\n",
       "        <td>1</td>\n",
       "        <td>Grade 2</td>\n",
       "    </tr>\n",
       "    <tr>\n",
       "        <td>671458</td>\n",
       "        <td>360101000041</td>\n",
       "        <td>36</td>\n",
       "        <td>3609</td>\n",
       "        <td>360903</td>\n",
       "        <td>2</td>\n",
       "        <td>2</td>\n",
       "        <td>15</td>\n",
       "        <td>390</td>\n",
       "        <td>12</td>\n",
       "        <td>12</td>\n",
       "        <td>Flat</td>\n",
       "        <td>Mud mortar-Stone/Brick</td>\n",
       "        <td>Bamboo/Timber-Light roof</td>\n",
       "        <td>Mud</td>\n",
       "        <td>TImber/Bamboo-Mud</td>\n",
       "        <td>Not attached</td>\n",
       "        <td>Rectangular</td>\n",
       "        <td>0</td>\n",
       "        <td>1</td>\n",
       "        <td>Grade 4</td>\n",
       "    </tr>\n",
       "    <tr>\n",
       "        <td>671459</td>\n",
       "        <td>360101000051</td>\n",
       "        <td>36</td>\n",
       "        <td>3609</td>\n",
       "        <td>360903</td>\n",
       "        <td>2</td>\n",
       "        <td>2</td>\n",
       "        <td>15</td>\n",
       "        <td>290</td>\n",
       "        <td>13</td>\n",
       "        <td>13</td>\n",
       "        <td>Flat</td>\n",
       "        <td>Mud mortar-Stone/Brick</td>\n",
       "        <td>Bamboo/Timber-Light roof</td>\n",
       "        <td>Mud</td>\n",
       "        <td>TImber/Bamboo-Mud</td>\n",
       "        <td>Not attached</td>\n",
       "        <td>Square</td>\n",
       "        <td>0</td>\n",
       "        <td>1</td>\n",
       "        <td>Grade 4</td>\n",
       "    </tr>\n",
       "</table>"
      ],
      "text/plain": [
       "[(671455, 360101000011, 36, 3609, 360903, 1, 0, 40, 336, 6, 0, 'Flat', 'Mud mortar-Stone/Brick', 'Bamboo/Timber-Light roof', 'Mud', 'Not applicable', 'Not attached', 'Rectangular', '0', '1', 'Grade 5'),\n",
       " (671456, 360101000021, 36, 3609, 360903, 2, 2, 12, 420, 13, 13, 'Flat', 'Mud mortar-Stone/Brick', 'Bamboo/Timber-Light roof', 'Mud', 'TImber/Bamboo-Mud', 'Not attached', 'Rectangular', '0', '1', 'Grade 3'),\n",
       " (671457, 360101000031, 36, 3609, 360903, 3, 3, 20, 560, 18, 18, 'Flat', 'Mud mortar-Stone/Brick', 'Bamboo/Timber-Light roof', 'Mud', 'TImber/Bamboo-Mud', 'Not attached', 'Rectangular', '0', '1', 'Grade 2'),\n",
       " (671458, 360101000041, 36, 3609, 360903, 2, 2, 15, 390, 12, 12, 'Flat', 'Mud mortar-Stone/Brick', 'Bamboo/Timber-Light roof', 'Mud', 'TImber/Bamboo-Mud', 'Not attached', 'Rectangular', '0', '1', 'Grade 4'),\n",
       " (671459, 360101000051, 36, 3609, 360903, 2, 2, 15, 290, 13, 13, 'Flat', 'Mud mortar-Stone/Brick', 'Bamboo/Timber-Light roof', 'Mud', 'TImber/Bamboo-Mud', 'Not attached', 'Square', '0', '1', 'Grade 4')]"
      ]
     },
     "execution_count": 34,
     "metadata": {},
     "output_type": "execute_result"
    }
   ],
   "source": [
    "%%sql\n",
    "SELECT DISTINCT im.building_id AS b_id,\n",
    "    bs.*,\n",
    "    bd.damage_grade\n",
    "  FROM temp_map1 tm\n",
    "       JOIN\n",
    "       building_structure AS bs ON tm.building_id = bs.building_id\n",
    "       JOIN \n",
    "       building_damage AS bd ON tm.building_id = bd.building_id\n",
    "       JOIN\n",
    "       id_map AS im ON im.household_id =tm.household_id \n",
    "       where im.district_id=36\n",
    "        limit 5\n",
    "\n"
   ]
  },
  {
   "cell_type": "code",
   "execution_count": 35,
   "metadata": {},
   "outputs": [],
   "source": [
    "def wrangle(filepath):\n",
    "    con= sqlite3.connect(filepath)\n",
    "    \n",
    "     # Construct query\n",
    "    query = \"\"\"\n",
    "        SELECT DISTINCT im.building_id AS b_id,\n",
    "    bs.*,\n",
    "    bd.damage_grade\n",
    "  FROM temp_map1 tm\n",
    "       JOIN\n",
    "       building_structure AS bs ON tm.building_id = bs.building_id\n",
    "       JOIN \n",
    "       building_damage AS bd ON tm.building_id = bd.building_id\n",
    "       JOIN\n",
    "       id_map AS im ON im.household_id =tm.household_id \n",
    "       where im.district_id=36\n",
    "    \"\"\"\n",
    "    \n",
    "    #Read Query results into df\n",
    "    df= pd.read_sql(query, con, index_col='b_id')\n",
    "    \n",
    "    #List post_eq data data\n",
    "    drop_cols=[col for col in df.columns if 'post_eq' in col]\n",
    "    \n",
    "    #binary classification\n",
    "    df['damage_grade']=df['damage_grade'].str.split(' ',expand=True)[1].astype(int)\n",
    "    df['severity']=(df['damage_grade']>3).astype(int)\n",
    "    \n",
    "    #Drop cols for binary classification\n",
    "    drop_cols.append('damage_grade')\n",
    "    \n",
    "    #Drop cols for high cardinality/ leakage/ non relevance\n",
    "    drop_cols.append('building_id')\n",
    "    drop_cols.append('district_id')\n",
    "    drop_cols.append('vdcmun_id')\n",
    "    drop_cols.append('ward_id')\n",
    "    \n",
    "    # Drop cols for low multi collinearity \n",
    "    drop_cols.append('count_floors_pre_eq')\n",
    "    \n",
    "    #Drop cols\n",
    "    df.drop(columns=drop_cols, inplace=True)\n",
    "    \n",
    "    return df\n"
   ]
  },
  {
   "cell_type": "code",
   "execution_count": 36,
   "metadata": {},
   "outputs": [
    {
     "data": {
      "text/html": [
       "<div>\n",
       "<style scoped>\n",
       "    .dataframe tbody tr th:only-of-type {\n",
       "        vertical-align: middle;\n",
       "    }\n",
       "\n",
       "    .dataframe tbody tr th {\n",
       "        vertical-align: top;\n",
       "    }\n",
       "\n",
       "    .dataframe thead th {\n",
       "        text-align: right;\n",
       "    }\n",
       "</style>\n",
       "<table border=\"1\" class=\"dataframe\">\n",
       "  <thead>\n",
       "    <tr style=\"text-align: right;\">\n",
       "      <th></th>\n",
       "      <th>age_building</th>\n",
       "      <th>plinth_area_sq_ft</th>\n",
       "      <th>height_ft_pre_eq</th>\n",
       "      <th>land_surface_condition</th>\n",
       "      <th>foundation_type</th>\n",
       "      <th>roof_type</th>\n",
       "      <th>ground_floor_type</th>\n",
       "      <th>other_floor_type</th>\n",
       "      <th>position</th>\n",
       "      <th>plan_configuration</th>\n",
       "      <th>superstructure</th>\n",
       "      <th>severity</th>\n",
       "    </tr>\n",
       "    <tr>\n",
       "      <th>b_id</th>\n",
       "      <th></th>\n",
       "      <th></th>\n",
       "      <th></th>\n",
       "      <th></th>\n",
       "      <th></th>\n",
       "      <th></th>\n",
       "      <th></th>\n",
       "      <th></th>\n",
       "      <th></th>\n",
       "      <th></th>\n",
       "      <th></th>\n",
       "      <th></th>\n",
       "    </tr>\n",
       "  </thead>\n",
       "  <tbody>\n",
       "    <tr>\n",
       "      <th>671455</th>\n",
       "      <td>40</td>\n",
       "      <td>336</td>\n",
       "      <td>6</td>\n",
       "      <td>Flat</td>\n",
       "      <td>Mud mortar-Stone/Brick</td>\n",
       "      <td>Bamboo/Timber-Light roof</td>\n",
       "      <td>Mud</td>\n",
       "      <td>Not applicable</td>\n",
       "      <td>Not attached</td>\n",
       "      <td>Rectangular</td>\n",
       "      <td>1</td>\n",
       "      <td>1</td>\n",
       "    </tr>\n",
       "    <tr>\n",
       "      <th>671456</th>\n",
       "      <td>12</td>\n",
       "      <td>420</td>\n",
       "      <td>13</td>\n",
       "      <td>Flat</td>\n",
       "      <td>Mud mortar-Stone/Brick</td>\n",
       "      <td>Bamboo/Timber-Light roof</td>\n",
       "      <td>Mud</td>\n",
       "      <td>TImber/Bamboo-Mud</td>\n",
       "      <td>Not attached</td>\n",
       "      <td>Rectangular</td>\n",
       "      <td>1</td>\n",
       "      <td>0</td>\n",
       "    </tr>\n",
       "    <tr>\n",
       "      <th>671457</th>\n",
       "      <td>20</td>\n",
       "      <td>560</td>\n",
       "      <td>18</td>\n",
       "      <td>Flat</td>\n",
       "      <td>Mud mortar-Stone/Brick</td>\n",
       "      <td>Bamboo/Timber-Light roof</td>\n",
       "      <td>Mud</td>\n",
       "      <td>TImber/Bamboo-Mud</td>\n",
       "      <td>Not attached</td>\n",
       "      <td>Rectangular</td>\n",
       "      <td>1</td>\n",
       "      <td>0</td>\n",
       "    </tr>\n",
       "    <tr>\n",
       "      <th>671458</th>\n",
       "      <td>15</td>\n",
       "      <td>390</td>\n",
       "      <td>12</td>\n",
       "      <td>Flat</td>\n",
       "      <td>Mud mortar-Stone/Brick</td>\n",
       "      <td>Bamboo/Timber-Light roof</td>\n",
       "      <td>Mud</td>\n",
       "      <td>TImber/Bamboo-Mud</td>\n",
       "      <td>Not attached</td>\n",
       "      <td>Rectangular</td>\n",
       "      <td>1</td>\n",
       "      <td>1</td>\n",
       "    </tr>\n",
       "    <tr>\n",
       "      <th>671459</th>\n",
       "      <td>15</td>\n",
       "      <td>290</td>\n",
       "      <td>13</td>\n",
       "      <td>Flat</td>\n",
       "      <td>Mud mortar-Stone/Brick</td>\n",
       "      <td>Bamboo/Timber-Light roof</td>\n",
       "      <td>Mud</td>\n",
       "      <td>TImber/Bamboo-Mud</td>\n",
       "      <td>Not attached</td>\n",
       "      <td>Square</td>\n",
       "      <td>1</td>\n",
       "      <td>1</td>\n",
       "    </tr>\n",
       "  </tbody>\n",
       "</table>\n",
       "</div>"
      ],
      "text/plain": [
       "        age_building  plinth_area_sq_ft  height_ft_pre_eq  \\\n",
       "b_id                                                        \n",
       "671455            40                336                 6   \n",
       "671456            12                420                13   \n",
       "671457            20                560                18   \n",
       "671458            15                390                12   \n",
       "671459            15                290                13   \n",
       "\n",
       "       land_surface_condition         foundation_type  \\\n",
       "b_id                                                    \n",
       "671455                   Flat  Mud mortar-Stone/Brick   \n",
       "671456                   Flat  Mud mortar-Stone/Brick   \n",
       "671457                   Flat  Mud mortar-Stone/Brick   \n",
       "671458                   Flat  Mud mortar-Stone/Brick   \n",
       "671459                   Flat  Mud mortar-Stone/Brick   \n",
       "\n",
       "                       roof_type ground_floor_type   other_floor_type  \\\n",
       "b_id                                                                    \n",
       "671455  Bamboo/Timber-Light roof               Mud     Not applicable   \n",
       "671456  Bamboo/Timber-Light roof               Mud  TImber/Bamboo-Mud   \n",
       "671457  Bamboo/Timber-Light roof               Mud  TImber/Bamboo-Mud   \n",
       "671458  Bamboo/Timber-Light roof               Mud  TImber/Bamboo-Mud   \n",
       "671459  Bamboo/Timber-Light roof               Mud  TImber/Bamboo-Mud   \n",
       "\n",
       "            position plan_configuration superstructure  severity  \n",
       "b_id                                                              \n",
       "671455  Not attached        Rectangular              1         1  \n",
       "671456  Not attached        Rectangular              1         0  \n",
       "671457  Not attached        Rectangular              1         0  \n",
       "671458  Not attached        Rectangular              1         1  \n",
       "671459  Not attached             Square              1         1  "
      ]
     },
     "execution_count": 36,
     "metadata": {},
     "output_type": "execute_result"
    }
   ],
   "source": [
    "df=wrangle('./nepalDB.db')\n",
    "df.head()"
   ]
  },
  {
   "cell_type": "code",
   "execution_count": 37,
   "metadata": {},
   "outputs": [
    {
     "name": "stdout",
     "output_type": "stream",
     "text": [
      "<class 'pandas.core.frame.DataFrame'>\n",
      "Int64Index: 75883 entries, 671455 to 747365\n",
      "Data columns (total 12 columns):\n",
      " #   Column                  Non-Null Count  Dtype \n",
      "---  ------                  --------------  ----- \n",
      " 0   age_building            75883 non-null  int64 \n",
      " 1   plinth_area_sq_ft       75883 non-null  int64 \n",
      " 2   height_ft_pre_eq        75883 non-null  int64 \n",
      " 3   land_surface_condition  75883 non-null  object\n",
      " 4   foundation_type         75883 non-null  object\n",
      " 5   roof_type               75883 non-null  object\n",
      " 6   ground_floor_type       75883 non-null  object\n",
      " 7   other_floor_type        75883 non-null  object\n",
      " 8   position                75883 non-null  object\n",
      " 9   plan_configuration      75883 non-null  object\n",
      " 10  superstructure          75883 non-null  object\n",
      " 11  severity                75883 non-null  int32 \n",
      "dtypes: int32(1), int64(3), object(8)\n",
      "memory usage: 7.2+ MB\n"
     ]
    }
   ],
   "source": [
    "df.info()"
   ]
  },
  {
   "cell_type": "code",
   "execution_count": 38,
   "metadata": {},
   "outputs": [
    {
     "data": {
      "text/plain": [
       "1    47885\n",
       "0    27998\n",
       "Name: severity, dtype: int64"
      ]
     },
     "execution_count": 38,
     "metadata": {},
     "output_type": "execute_result"
    }
   ],
   "source": [
    "df['severity'].value_counts()"
   ]
  },
  {
   "attachments": {},
   "cell_type": "markdown",
   "metadata": {},
   "source": [
    "### Explore"
   ]
  },
  {
   "cell_type": "code",
   "execution_count": 39,
   "metadata": {},
   "outputs": [
    {
     "name": "stdout",
     "output_type": "stream",
     "text": [
      "                   age_building  plinth_area_sq_ft  height_ft_pre_eq\n",
      "age_building           1.000000          -0.021963          0.035365\n",
      "plinth_area_sq_ft     -0.021963           1.000000          0.330765\n",
      "height_ft_pre_eq       0.035365           0.330765          1.000000\n"
     ]
    },
    {
     "data": {
      "text/plain": [
       "Text(0.5, 1.0, 'Collinearity among numerical features Heat Map')"
      ]
     },
     "execution_count": 39,
     "metadata": {},
     "output_type": "execute_result"
    },
    {
     "data": {
      "image/png": "[encoded data removed]",
      "text/plain": [
       "<Figure size 640x480 with 2 Axes>"
      ]
     },
     "metadata": {},
     "output_type": "display_data"
    }
   ],
   "source": [
    "correlation=df.select_dtypes('number').drop(columns='severity').corr()\n",
    "print(correlation)\n",
    "sns.heatmap(correlation)\n",
    "plt.title('Collinearity among numerical features Heat Map')"
   ]
  },
  {
   "cell_type": "code",
   "execution_count": 40,
   "metadata": {},
   "outputs": [
    {
     "data": {
      "text/plain": [
       "-0.08591905510494374"
      ]
     },
     "execution_count": 40,
     "metadata": {},
     "output_type": "execute_result"
    }
   ],
   "source": [
    "df['severity'].corr(df['height_ft_pre_eq'])"
   ]
  },
  {
   "cell_type": "code",
   "execution_count": null,
   "metadata": {},
   "outputs": [],
   "source": [
    "# df['severity'].corr(df['count_floors_pre_eq'])"
   ]
  },
  {
   "cell_type": "code",
   "execution_count": null,
   "metadata": {},
   "outputs": [
    {
     "data": {
      "text/plain": [
       "Text(0.5, 1.0, 'Distribution of Building Height by Class')"
      ]
     },
     "execution_count": 25,
     "metadata": {},
     "output_type": "execute_result"
    },
    {
     "data": {
      "image/png": "[encoded data removed]",
      "text/plain": [
       "<Figure size 640x480 with 1 Axes>"
      ]
     },
     "metadata": {},
     "output_type": "display_data"
    }
   ],
   "source": [
    "#Create boxplot\n",
    "\n",
    "sns.boxplot(x='severity', y='height_ft_pre_eq', data=df)\n",
    "\n",
    "#Labelling Axes\n",
    "plt.xlabel('Severe Damage')\n",
    "plt.ylabel('Height Pre Damage [ft]')\n",
    "plt.title(\"Distribution of Building Height by Class\")"
   ]
  },
  {
   "cell_type": "code",
   "execution_count": 43,
   "metadata": {},
   "outputs": [
    {
     "data": {
      "image/png": "[encoded data removed]",
      "text/plain": [
       "<Figure size 640x480 with 1 Axes>"
      ]
     },
     "metadata": {},
     "output_type": "display_data"
    }
   ],
   "source": [
    "# Plot value counts of `\"severe_damage\"`\n",
    "df['severity'].value_counts(normalize=True).plot(\n",
    "    kind='bar',\n",
    "    xlabel='Class of Severe Damage',\n",
    "    ylabel='Relative Frequency',\n",
    "    title='Class Balance'\n",
    ");"
   ]
  },
  {
   "cell_type": "code",
   "execution_count": 45,
   "metadata": {},
   "outputs": [
    {
     "name": "stdout",
     "output_type": "stream",
     "text": [
      "0.6310372547210837 0.3689627452789162\n"
     ]
    }
   ],
   "source": [
    "majority_class_prop, minority_class_prop= df['severity'].value_counts(normalize=True)\n",
    "\n",
    "print(majority_class_prop, minority_class_prop)"
   ]
  },
  {
   "attachments": {},
   "cell_type": "markdown",
   "metadata": {},
   "source": [
    "Pivot Table"
   ]
  },
  {
   "cell_type": "code",
   "execution_count": 48,
   "metadata": {},
   "outputs": [
    {
     "data": {
      "image/png": "[encoded data removed]",
      "text/plain": [
       "<Figure size 640x480 with 1 Axes>"
      ]
     },
     "metadata": {},
     "output_type": "display_data"
    }
   ],
   "source": [
    "# Create pivot table\n",
    "# Plot bar chart of `foundation_pivot`\n",
    "foundation_pivot = pd.pivot_table(\n",
    "    df,\n",
    "    index='foundation_type',\n",
    "    values='severity',\n",
    "    aggfunc=np.mean\n",
    ").sort_values(by='severity').plot(\n",
    "    kind='barh',\n",
    "    xlabel='Foundation Type',\n",
    "    title='Distribution of Damage by Foundation Type',\n",
    "    label='Severity of Damage'\n",
    ");\n",
    "\n",
    "plt.axvline(majority_class_prop, linestyle='--',color='red', label='Majority Class' );\n",
    "plt.axvline(minority_class_prop, linestyle='--',color='green', label='Minority Class' );\n",
    "plt.legend(loc='lower right');"
   ]
  },
  {
   "cell_type": "markdown",
   "metadata": {},
   "source": []
  },
  {
   "attachments": {},
   "cell_type": "markdown",
   "metadata": {},
   "source": [
    "### Split"
   ]
  },
  {
   "cell_type": "code",
   "execution_count": 50,
   "metadata": {},
   "outputs": [],
   "source": [
    "target = \"severity\"\n",
    "X = df.drop(columns=target)\n",
    "y = df[target]"
   ]
  },
  {
   "cell_type": "code",
   "execution_count": 51,
   "metadata": {},
   "outputs": [
    {
     "name": "stdout",
     "output_type": "stream",
     "text": [
      "X_train shape: (60706, 11)\n",
      "y_train shape: (60706,)\n",
      "X_test shape: (15177, 11)\n",
      "y_test shape: (15177,)\n"
     ]
    }
   ],
   "source": [
    "X_train, X_test, y_train, y_test =  train_test_split(\n",
    "    X,y, test_size=0.2, random_state=42\n",
    ")\n",
    "\n",
    "print(\"X_train shape:\", X_train.shape)\n",
    "print(\"y_train shape:\", y_train.shape)\n",
    "print(\"X_test shape:\", X_test.shape)\n",
    "print(\"y_test shape:\", y_test.shape)"
   ]
  },
  {
   "attachments": {},
   "cell_type": "markdown",
   "metadata": {},
   "source": [
    "### Build Model"
   ]
  },
  {
   "attachments": {},
   "cell_type": "markdown",
   "metadata": {},
   "source": [
    "#### Baseline"
   ]
  },
  {
   "cell_type": "code",
   "execution_count": 52,
   "metadata": {},
   "outputs": [
    {
     "name": "stdout",
     "output_type": "stream",
     "text": [
      "Baseline Accuracy: 0.63\n"
     ]
    }
   ],
   "source": [
    "acc_baseline = y_train.value_counts(normalize=True).max()\n",
    "print(\"Baseline Accuracy:\", round(acc_baseline, 2))"
   ]
  },
  {
   "attachments": {},
   "cell_type": "markdown",
   "metadata": {},
   "source": [
    "#### Iterate"
   ]
  },
  {
   "cell_type": "code",
   "execution_count": 53,
   "metadata": {},
   "outputs": [
    {
     "data": {
      "text/html": [
       "<style>#sk-container-id-1 {color: black;background-color: white;}#sk-container-id-1 pre{padding: 0;}#sk-container-id-1 div.sk-toggleable {background-color: white;}#sk-container-id-1 label.sk-toggleable__label {cursor: pointer;display: block;width: 100%;margin-bottom: 0;padding: 0.3em;box-sizing: border-box;text-align: center;}#sk-container-id-1 label.sk-toggleable__label-arrow:before {content: \"▸\";float: left;margin-right: 0.25em;color: #696969;}#sk-container-id-1 label.sk-toggleable__label-arrow:hover:before {color: black;}#sk-container-id-1 div.sk-estimator:hover label.sk-toggleable__label-arrow:before {color: black;}#sk-container-id-1 div.sk-toggleable__content {max-height: 0;max-width: 0;overflow: hidden;text-align: left;background-color: #f0f8ff;}#sk-container-id-1 div.sk-toggleable__content pre {margin: 0.2em;color: black;border-radius: 0.25em;background-color: #f0f8ff;}#sk-container-id-1 input.sk-toggleable__control:checked~div.sk-toggleable__content {max-height: 200px;max-width: 100%;overflow: auto;}#sk-container-id-1 input.sk-toggleable__control:checked~label.sk-toggleable__label-arrow:before {content: \"▾\";}#sk-container-id-1 div.sk-estimator input.sk-toggleable__control:checked~label.sk-toggleable__label {background-color: #d4ebff;}#sk-container-id-1 div.sk-label input.sk-toggleable__control:checked~label.sk-toggleable__label {background-color: #d4ebff;}#sk-container-id-1 input.sk-hidden--visually {border: 0;clip: rect(1px 1px 1px 1px);clip: rect(1px, 1px, 1px, 1px);height: 1px;margin: -1px;overflow: hidden;padding: 0;position: absolute;width: 1px;}#sk-container-id-1 div.sk-estimator {font-family: monospace;background-color: #f0f8ff;border: 1px dotted black;border-radius: 0.25em;box-sizing: border-box;margin-bottom: 0.5em;}#sk-container-id-1 div.sk-estimator:hover {background-color: #d4ebff;}#sk-container-id-1 div.sk-parallel-item::after {content: \"\";width: 100%;border-bottom: 1px solid gray;flex-grow: 1;}#sk-container-id-1 div.sk-label:hover label.sk-toggleable__label {background-color: #d4ebff;}#sk-container-id-1 div.sk-serial::before {content: \"\";position: absolute;border-left: 1px solid gray;box-sizing: border-box;top: 0;bottom: 0;left: 50%;z-index: 0;}#sk-container-id-1 div.sk-serial {display: flex;flex-direction: column;align-items: center;background-color: white;padding-right: 0.2em;padding-left: 0.2em;position: relative;}#sk-container-id-1 div.sk-item {position: relative;z-index: 1;}#sk-container-id-1 div.sk-parallel {display: flex;align-items: stretch;justify-content: center;background-color: white;position: relative;}#sk-container-id-1 div.sk-item::before, #sk-container-id-1 div.sk-parallel-item::before {content: \"\";position: absolute;border-left: 1px solid gray;box-sizing: border-box;top: 0;bottom: 0;left: 50%;z-index: -1;}#sk-container-id-1 div.sk-parallel-item {display: flex;flex-direction: column;z-index: 1;position: relative;background-color: white;}#sk-container-id-1 div.sk-parallel-item:first-child::after {align-self: flex-end;width: 50%;}#sk-container-id-1 div.sk-parallel-item:last-child::after {align-self: flex-start;width: 50%;}#sk-container-id-1 div.sk-parallel-item:only-child::after {width: 0;}#sk-container-id-1 div.sk-dashed-wrapped {border: 1px dashed gray;margin: 0 0.4em 0.5em 0.4em;box-sizing: border-box;padding-bottom: 0.4em;background-color: white;}#sk-container-id-1 div.sk-label label {font-family: monospace;font-weight: bold;display: inline-block;line-height: 1.2em;}#sk-container-id-1 div.sk-label-container {text-align: center;}#sk-container-id-1 div.sk-container {/* jupyter's `normalize.less` sets `[hidden] { display: none; }` but bootstrap.min.css set `[hidden] { display: none !important; }` so we also need the `!important` here to be able to override the default hidden behavior on the sphinx rendered scikit-learn.org. See: https://github.com/scikit-learn/scikit-learn/issues/21755 */display: inline-block !important;position: relative;}#sk-container-id-1 div.sk-text-repr-fallback {display: none;}</style><div id=\"sk-container-id-1\" class=\"sk-top-container\"><div class=\"sk-text-repr-fallback\"><pre>Pipeline(steps=[(&#x27;onehotencoder&#x27;,\n",
       "                 OneHotEncoder(cols=[&#x27;land_surface_condition&#x27;,\n",
       "                                     &#x27;foundation_type&#x27;, &#x27;roof_type&#x27;,\n",
       "                                     &#x27;ground_floor_type&#x27;, &#x27;other_floor_type&#x27;,\n",
       "                                     &#x27;position&#x27;, &#x27;plan_configuration&#x27;,\n",
       "                                     &#x27;superstructure&#x27;],\n",
       "                               use_cat_names=True)),\n",
       "                (&#x27;logisticregression&#x27;, LogisticRegression(max_iter=1000))])</pre><b>In a Jupyter environment, please rerun this cell to show the HTML representation or trust the notebook. <br />On GitHub, the HTML representation is unable to render, please try loading this page with nbviewer.org.</b></div><div class=\"sk-container\" hidden><div class=\"sk-item sk-dashed-wrapped\"><div class=\"sk-label-container\"><div class=\"sk-label sk-toggleable\"><input class=\"sk-toggleable__control sk-hidden--visually\" id=\"sk-estimator-id-1\" type=\"checkbox\" ><label for=\"sk-estimator-id-1\" class=\"sk-toggleable__label sk-toggleable__label-arrow\">Pipeline</label><div class=\"sk-toggleable__content\"><pre>Pipeline(steps=[(&#x27;onehotencoder&#x27;,\n",
       "                 OneHotEncoder(cols=[&#x27;land_surface_condition&#x27;,\n",
       "                                     &#x27;foundation_type&#x27;, &#x27;roof_type&#x27;,\n",
       "                                     &#x27;ground_floor_type&#x27;, &#x27;other_floor_type&#x27;,\n",
       "                                     &#x27;position&#x27;, &#x27;plan_configuration&#x27;,\n",
       "                                     &#x27;superstructure&#x27;],\n",
       "                               use_cat_names=True)),\n",
       "                (&#x27;logisticregression&#x27;, LogisticRegression(max_iter=1000))])</pre></div></div></div><div class=\"sk-serial\"><div class=\"sk-item\"><div class=\"sk-estimator sk-toggleable\"><input class=\"sk-toggleable__control sk-hidden--visually\" id=\"sk-estimator-id-2\" type=\"checkbox\" ><label for=\"sk-estimator-id-2\" class=\"sk-toggleable__label sk-toggleable__label-arrow\">OneHotEncoder</label><div class=\"sk-toggleable__content\"><pre>OneHotEncoder(cols=[&#x27;land_surface_condition&#x27;, &#x27;foundation_type&#x27;, &#x27;roof_type&#x27;,\n",
       "                    &#x27;ground_floor_type&#x27;, &#x27;other_floor_type&#x27;, &#x27;position&#x27;,\n",
       "                    &#x27;plan_configuration&#x27;, &#x27;superstructure&#x27;],\n",
       "              use_cat_names=True)</pre></div></div></div><div class=\"sk-item\"><div class=\"sk-estimator sk-toggleable\"><input class=\"sk-toggleable__control sk-hidden--visually\" id=\"sk-estimator-id-3\" type=\"checkbox\" ><label for=\"sk-estimator-id-3\" class=\"sk-toggleable__label sk-toggleable__label-arrow\">LogisticRegression</label><div class=\"sk-toggleable__content\"><pre>LogisticRegression(max_iter=1000)</pre></div></div></div></div></div></div></div>"
      ],
      "text/plain": [
       "Pipeline(steps=[('onehotencoder',\n",
       "                 OneHotEncoder(cols=['land_surface_condition',\n",
       "                                     'foundation_type', 'roof_type',\n",
       "                                     'ground_floor_type', 'other_floor_type',\n",
       "                                     'position', 'plan_configuration',\n",
       "                                     'superstructure'],\n",
       "                               use_cat_names=True)),\n",
       "                ('logisticregression', LogisticRegression(max_iter=1000))])"
      ]
     },
     "execution_count": 53,
     "metadata": {},
     "output_type": "execute_result"
    }
   ],
   "source": [
    "# Build model\n",
    "model = make_pipeline(\n",
    "    OneHotEncoder(use_cat_names=True),\n",
    "    LogisticRegression(max_iter=1000)\n",
    ") \n",
    "# Fit model to training data\n",
    "model.fit(X_train,y_train)"
   ]
  },
  {
   "attachments": {},
   "cell_type": "markdown",
   "metadata": {},
   "source": [
    "#### Evaluate"
   ]
  },
  {
   "cell_type": "code",
   "execution_count": 54,
   "metadata": {},
   "outputs": [
    {
     "name": "stdout",
     "output_type": "stream",
     "text": [
      "Training Accuracy: 0.72\n",
      "Test Accuracy: 0.71\n"
     ]
    }
   ],
   "source": [
    "acc_train = accuracy_score(y_train, model.predict(X_train))\n",
    "acc_test = model.score(X_test, y_test)\n",
    "\n",
    "print(\"Training Accuracy:\", round(acc_train, 2))\n",
    "print(\"Test Accuracy:\", round(acc_test, 2))"
   ]
  },
  {
   "attachments": {},
   "cell_type": "markdown",
   "metadata": {},
   "source": [
    "### Communicate"
   ]
  },
  {
   "cell_type": "code",
   "execution_count": 55,
   "metadata": {},
   "outputs": [
    {
     "name": "stdout",
     "output_type": "stream",
     "text": [
      "[1 1 1 1 1]\n",
      "[[0.22816126 0.77183874]\n",
      " [0.32604206 0.67395794]\n",
      " [0.32918486 0.67081514]\n",
      " [0.23335514 0.76664486]\n",
      " [0.23019673 0.76980327]]\n"
     ]
    }
   ],
   "source": [
    "y_train_pred = model.predict(X_train)\n",
    "y_train_pred_proba = model.predict_proba(X_train)\n",
    "print(y_train_pred[:5])\n",
    "print(y_train_pred_proba[:5])"
   ]
  },
  {
   "cell_type": "code",
   "execution_count": 56,
   "metadata": {},
   "outputs": [],
   "source": [
    "features = model.named_steps['onehotencoder'].get_feature_names()\n",
    "importances = model.named_steps['logisticregression'].coef_[0]"
   ]
  },
  {
   "cell_type": "code",
   "execution_count": 57,
   "metadata": {},
   "outputs": [
    {
     "data": {
      "text/plain": [
       "foundation_type_RC               0.314553\n",
       "roof_type_RCC/RB/RBC             0.331632\n",
       "ground_floor_type_RC             0.419305\n",
       "other_floor_type_RCC/RB/RBC      0.464109\n",
       "foundation_type_Bamboo/Timber    0.514135\n",
       "dtype: float64"
      ]
     },
     "execution_count": 57,
     "metadata": {},
     "output_type": "execute_result"
    }
   ],
   "source": [
    "odds_ratios =  pd.Series(np.exp(importances), index= features).sort_values()\n",
    "odds_ratios.head()"
   ]
  },
  {
   "cell_type": "code",
   "execution_count": 58,
   "metadata": {},
   "outputs": [
    {
     "data": {
      "image/png": "[encoded data removed]",
      "text/plain": [
       "<Figure size 640x480 with 1 Axes>"
      ]
     },
     "metadata": {},
     "output_type": "display_data"
    }
   ],
   "source": [
    "# Horizontal bar chart, five largest coefficients\n",
    "odds_ratios.tail().plot(kind='barh')\n",
    "plt.xlabel('Odds Ratio');"
   ]
  },
  {
   "cell_type": "code",
   "execution_count": 59,
   "metadata": {},
   "outputs": [
    {
     "data": {
      "image/png": "[encoded data removed]",
      "text/plain": [
       "<Figure size 640x480 with 1 Axes>"
      ]
     },
     "metadata": {},
     "output_type": "display_data"
    }
   ],
   "source": [
    "# Horizontal bar chart, five smallest coefficients\n",
    "odds_ratios.head().plot(kind='barh')\n",
    "plt.xlabel('Odds Ratio');"
   ]
  },
  {
   "cell_type": "markdown",
   "metadata": {},
   "source": []
  }
 ],
 "metadata": {
  "kernelspec": {
   "display_name": "Python 3",
   "language": "python",
   "name": "python3"
  },
  "language_info": {
   "codemirror_mode": {
    "name": "ipython",
    "version": 3
   },
   "file_extension": ".py",
   "mimetype": "text/x-python",
   "name": "python",
   "nbconvert_exporter": "python",
   "pygments_lexer": "ipython3",
   "version": "3.10.9 (tags/v3.10.9:1dd9be6, Dec  6 2022, 20:01:21) [MSC v.1934 64 bit (AMD64)]"
  },
  "orig_nbformat": 4,
  "vscode": {
   "interpreter": {
    "hash": "174ef937a28829811967978ceafd30b4556b1949c3c64fea724a28599c7d4227"
   }
  }
 },
 "nbformat": 4,
 "nbformat_minor": 2
}
