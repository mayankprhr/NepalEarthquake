{
 "cells": [
  {
   "attachments": {},
   "cell_type": "markdown",
   "metadata": {},
   "source": [
    "# Nepal Earthquake"
   ]
  },
  {
   "attachments": {},
   "cell_type": "markdown",
   "metadata": {},
   "source": [
    "### Import Libraries and Set Data Source "
   ]
  },
  {
   "cell_type": "code",
   "execution_count": 27,
   "metadata": {},
   "outputs": [],
   "source": [
    "import warnings\n",
    "import matplotlib.pyplot as plt\n",
    "import numpy as np\n",
    "import pandas as pd\n",
    "import seaborn as sns\n",
    "import zipfile\n",
    "from category_encoders import OneHotEncoder\n",
    "from IPython.display import VimeoVideo\n",
    "from sklearn.linear_model import LogisticRegression\n",
    "from sklearn.metrics import accuracy_score\n",
    "from sklearn.model_selection import train_test_split\n",
    "from sklearn.pipeline import Pipeline, make_pipeline\n",
    "from sklearn.utils.validation import check_is_fitted"
   ]
  },
  {
   "cell_type": "code",
   "execution_count": 4,
   "metadata": {},
   "outputs": [],
   "source": [
    "import sqlite3\n",
    "%load_ext sql\n",
    "%sql sqlite:///nepalDB.db"
   ]
  },
  {
   "cell_type": "code",
   "execution_count": 5,
   "metadata": {},
   "outputs": [
    {
     "name": "stdout",
     "output_type": "stream",
     "text": [
      " * sqlite:///nepalDB.db\n",
      "Done.\n"
     ]
    },
    {
     "data": {
      "text/html": [
       "<table>\n",
       "    <tr>\n",
       "        <th>household_id</th>\n",
       "        <th>district_id</th>\n",
       "        <th>vdcmun_id</th>\n",
       "        <th>building_id</th>\n",
       "    </tr>\n",
       "    <tr>\n",
       "        <td>12010100001101</td>\n",
       "        <td>12</td>\n",
       "        <td>1207</td>\n",
       "        <td>1</td>\n",
       "    </tr>\n",
       "    <tr>\n",
       "        <td>12010100002101</td>\n",
       "        <td>12</td>\n",
       "        <td>1207</td>\n",
       "        <td>2</td>\n",
       "    </tr>\n",
       "    <tr>\n",
       "        <td>12010100003101</td>\n",
       "        <td>12</td>\n",
       "        <td>1207</td>\n",
       "        <td>3</td>\n",
       "    </tr>\n",
       "    <tr>\n",
       "        <td>12010100004101</td>\n",
       "        <td>12</td>\n",
       "        <td>1207</td>\n",
       "        <td>4</td>\n",
       "    </tr>\n",
       "    <tr>\n",
       "        <td>12010100005101</td>\n",
       "        <td>12</td>\n",
       "        <td>1207</td>\n",
       "        <td>5</td>\n",
       "    </tr>\n",
       "</table>"
      ],
      "text/plain": [
       "[(12010100001101, 12, 1207, 1),\n",
       " (12010100002101, 12, 1207, 2),\n",
       " (12010100003101, 12, 1207, 3),\n",
       " (12010100004101, 12, 1207, 4),\n",
       " (12010100005101, 12, 1207, 5)]"
      ]
     },
     "execution_count": 5,
     "metadata": {},
     "output_type": "execute_result"
    }
   ],
   "source": [
    "%%sql\n",
    "select * from id_map limit 5"
   ]
  },
  {
   "attachments": {},
   "cell_type": "markdown",
   "metadata": {},
   "source": [
    "### Prepare Data"
   ]
  },
  {
   "cell_type": "code",
   "execution_count": 6,
   "metadata": {},
   "outputs": [
    {
     "name": "stdout",
     "output_type": "stream",
     "text": [
      " * sqlite:///nepalDB.db\n",
      "Done.\n"
     ]
    },
    {
     "data": {
      "text/html": [
       "<table>\n",
       "    <tr>\n",
       "        <th>district_id</th>\n",
       "    </tr>\n",
       "    <tr>\n",
       "        <td>12</td>\n",
       "    </tr>\n",
       "    <tr>\n",
       "        <td>20</td>\n",
       "    </tr>\n",
       "    <tr>\n",
       "        <td>21</td>\n",
       "    </tr>\n",
       "    <tr>\n",
       "        <td>22</td>\n",
       "    </tr>\n",
       "    <tr>\n",
       "        <td>23</td>\n",
       "    </tr>\n",
       "    <tr>\n",
       "        <td>24</td>\n",
       "    </tr>\n",
       "    <tr>\n",
       "        <td>28</td>\n",
       "    </tr>\n",
       "    <tr>\n",
       "        <td>29</td>\n",
       "    </tr>\n",
       "    <tr>\n",
       "        <td>30</td>\n",
       "    </tr>\n",
       "    <tr>\n",
       "        <td>31</td>\n",
       "    </tr>\n",
       "    <tr>\n",
       "        <td>36</td>\n",
       "    </tr>\n",
       "</table>"
      ],
      "text/plain": [
       "[(12,), (20,), (21,), (22,), (23,), (24,), (28,), (29,), (30,), (31,), (36,)]"
      ]
     },
     "execution_count": 6,
     "metadata": {},
     "output_type": "execute_result"
    }
   ],
   "source": [
    "%%sql\n",
    "select distinct (district_id) from id_map"
   ]
  },
  {
   "cell_type": "code",
   "execution_count": 7,
   "metadata": {},
   "outputs": [
    {
     "name": "stdout",
     "output_type": "stream",
     "text": [
      " * sqlite:///nepalDB.db\n",
      "Done.\n"
     ]
    },
    {
     "data": {
      "text/html": [
       "<table>\n",
       "    <tr>\n",
       "        <th>count(distinct(building_id))</th>\n",
       "    </tr>\n",
       "    <tr>\n",
       "        <td>747365</td>\n",
       "    </tr>\n",
       "</table>"
      ],
      "text/plain": [
       "[(747365,)]"
      ]
     },
     "execution_count": 7,
     "metadata": {},
     "output_type": "execute_result"
    }
   ],
   "source": [
    "%sql select count(distinct(building_id)) from id_map"
   ]
  },
  {
   "cell_type": "code",
   "execution_count": 11,
   "metadata": {},
   "outputs": [
    {
     "name": "stdout",
     "output_type": "stream",
     "text": [
      " * sqlite:///nepalDB.db\n",
      "Done.\n"
     ]
    },
    {
     "data": {
      "text/html": [
       "<table>\n",
       "    <tr>\n",
       "        <th>b_id</th>\n",
       "        <th>building_id</th>\n",
       "        <th>district_id</th>\n",
       "        <th>vdcmun_id</th>\n",
       "        <th>ward_id</th>\n",
       "        <th>count_floors_pre_eq</th>\n",
       "        <th>count_floors_post_eq</th>\n",
       "        <th>age_building</th>\n",
       "        <th>plinth_area_sq_ft</th>\n",
       "        <th>height_ft_pre_eq</th>\n",
       "        <th>height_ft_post_eq</th>\n",
       "        <th>land_surface_condition</th>\n",
       "        <th>foundation_type</th>\n",
       "        <th>roof_type</th>\n",
       "        <th>ground_floor_type</th>\n",
       "        <th>other_floor_type</th>\n",
       "        <th>position</th>\n",
       "        <th>plan_configuration</th>\n",
       "        <th>condition_post_eq</th>\n",
       "        <th>superstructure</th>\n",
       "        <th>damage_grade</th>\n",
       "    </tr>\n",
       "    <tr>\n",
       "        <td>671455</td>\n",
       "        <td>360101000011</td>\n",
       "        <td>36</td>\n",
       "        <td>3609</td>\n",
       "        <td>360903</td>\n",
       "        <td>1</td>\n",
       "        <td>0</td>\n",
       "        <td>40</td>\n",
       "        <td>336</td>\n",
       "        <td>6</td>\n",
       "        <td>0</td>\n",
       "        <td>Flat</td>\n",
       "        <td>Mud mortar-Stone/Brick</td>\n",
       "        <td>Bamboo/Timber-Light roof</td>\n",
       "        <td>Mud</td>\n",
       "        <td>Not applicable</td>\n",
       "        <td>Not attached</td>\n",
       "        <td>Rectangular</td>\n",
       "        <td>0</td>\n",
       "        <td>1</td>\n",
       "        <td>Grade 5</td>\n",
       "    </tr>\n",
       "    <tr>\n",
       "        <td>671456</td>\n",
       "        <td>360101000021</td>\n",
       "        <td>36</td>\n",
       "        <td>3609</td>\n",
       "        <td>360903</td>\n",
       "        <td>2</td>\n",
       "        <td>2</td>\n",
       "        <td>12</td>\n",
       "        <td>420</td>\n",
       "        <td>13</td>\n",
       "        <td>13</td>\n",
       "        <td>Flat</td>\n",
       "        <td>Mud mortar-Stone/Brick</td>\n",
       "        <td>Bamboo/Timber-Light roof</td>\n",
       "        <td>Mud</td>\n",
       "        <td>TImber/Bamboo-Mud</td>\n",
       "        <td>Not attached</td>\n",
       "        <td>Rectangular</td>\n",
       "        <td>0</td>\n",
       "        <td>1</td>\n",
       "        <td>Grade 3</td>\n",
       "    </tr>\n",
       "    <tr>\n",
       "        <td>671457</td>\n",
       "        <td>360101000031</td>\n",
       "        <td>36</td>\n",
       "        <td>3609</td>\n",
       "        <td>360903</td>\n",
       "        <td>3</td>\n",
       "        <td>3</td>\n",
       "        <td>20</td>\n",
       "        <td>560</td>\n",
       "        <td>18</td>\n",
       "        <td>18</td>\n",
       "        <td>Flat</td>\n",
       "        <td>Mud mortar-Stone/Brick</td>\n",
       "        <td>Bamboo/Timber-Light roof</td>\n",
       "        <td>Mud</td>\n",
       "        <td>TImber/Bamboo-Mud</td>\n",
       "        <td>Not attached</td>\n",
       "        <td>Rectangular</td>\n",
       "        <td>0</td>\n",
       "        <td>1</td>\n",
       "        <td>Grade 2</td>\n",
       "    </tr>\n",
       "    <tr>\n",
       "        <td>671458</td>\n",
       "        <td>360101000041</td>\n",
       "        <td>36</td>\n",
       "        <td>3609</td>\n",
       "        <td>360903</td>\n",
       "        <td>2</td>\n",
       "        <td>2</td>\n",
       "        <td>15</td>\n",
       "        <td>390</td>\n",
       "        <td>12</td>\n",
       "        <td>12</td>\n",
       "        <td>Flat</td>\n",
       "        <td>Mud mortar-Stone/Brick</td>\n",
       "        <td>Bamboo/Timber-Light roof</td>\n",
       "        <td>Mud</td>\n",
       "        <td>TImber/Bamboo-Mud</td>\n",
       "        <td>Not attached</td>\n",
       "        <td>Rectangular</td>\n",
       "        <td>0</td>\n",
       "        <td>1</td>\n",
       "        <td>Grade 4</td>\n",
       "    </tr>\n",
       "    <tr>\n",
       "        <td>671459</td>\n",
       "        <td>360101000051</td>\n",
       "        <td>36</td>\n",
       "        <td>3609</td>\n",
       "        <td>360903</td>\n",
       "        <td>2</td>\n",
       "        <td>2</td>\n",
       "        <td>15</td>\n",
       "        <td>290</td>\n",
       "        <td>13</td>\n",
       "        <td>13</td>\n",
       "        <td>Flat</td>\n",
       "        <td>Mud mortar-Stone/Brick</td>\n",
       "        <td>Bamboo/Timber-Light roof</td>\n",
       "        <td>Mud</td>\n",
       "        <td>TImber/Bamboo-Mud</td>\n",
       "        <td>Not attached</td>\n",
       "        <td>Square</td>\n",
       "        <td>0</td>\n",
       "        <td>1</td>\n",
       "        <td>Grade 4</td>\n",
       "    </tr>\n",
       "</table>"
      ],
      "text/plain": [
       "[(671455, 360101000011, 36, 3609, 360903, 1, 0, 40, 336, 6, 0, 'Flat', 'Mud mortar-Stone/Brick', 'Bamboo/Timber-Light roof', 'Mud', 'Not applicable', 'Not attached', 'Rectangular', '0', '1', 'Grade 5'),\n",
       " (671456, 360101000021, 36, 3609, 360903, 2, 2, 12, 420, 13, 13, 'Flat', 'Mud mortar-Stone/Brick', 'Bamboo/Timber-Light roof', 'Mud', 'TImber/Bamboo-Mud', 'Not attached', 'Rectangular', '0', '1', 'Grade 3'),\n",
       " (671457, 360101000031, 36, 3609, 360903, 3, 3, 20, 560, 18, 18, 'Flat', 'Mud mortar-Stone/Brick', 'Bamboo/Timber-Light roof', 'Mud', 'TImber/Bamboo-Mud', 'Not attached', 'Rectangular', '0', '1', 'Grade 2'),\n",
       " (671458, 360101000041, 36, 3609, 360903, 2, 2, 15, 390, 12, 12, 'Flat', 'Mud mortar-Stone/Brick', 'Bamboo/Timber-Light roof', 'Mud', 'TImber/Bamboo-Mud', 'Not attached', 'Rectangular', '0', '1', 'Grade 4'),\n",
       " (671459, 360101000051, 36, 3609, 360903, 2, 2, 15, 290, 13, 13, 'Flat', 'Mud mortar-Stone/Brick', 'Bamboo/Timber-Light roof', 'Mud', 'TImber/Bamboo-Mud', 'Not attached', 'Square', '0', '1', 'Grade 4')]"
      ]
     },
     "execution_count": 11,
     "metadata": {},
     "output_type": "execute_result"
    }
   ],
   "source": [
    "%%sql\n",
    "SELECT DISTINCT im.building_id AS b_id,\n",
    "    bs.*,\n",
    "    bd.damage_grade\n",
    "  FROM temp_map1 tm\n",
    "       JOIN\n",
    "       building_structure AS bs ON tm.building_id = bs.building_id\n",
    "       JOIN \n",
    "       building_damage AS bd ON tm.building_id = bd.building_id\n",
    "       JOIN\n",
    "       id_map AS im ON im.household_id =tm.household_id \n",
    "       where im.district_id=36\n",
    "        limit 5\n",
    "\n"
   ]
  },
  {
   "cell_type": "code",
   "execution_count": 44,
   "metadata": {},
   "outputs": [],
   "source": [
    "def wrangle(filepath):\n",
    "    con= sqlite3.connect(filepath)\n",
    "    \n",
    "     # Construct query\n",
    "    query = \"\"\"\n",
    "        SELECT DISTINCT im.building_id AS b_id,\n",
    "    bs.*,\n",
    "    bd.damage_grade\n",
    "  FROM temp_map1 tm\n",
    "       JOIN\n",
    "       building_structure AS bs ON tm.building_id = bs.building_id\n",
    "       JOIN \n",
    "       building_damage AS bd ON tm.building_id = bd.building_id\n",
    "       JOIN\n",
    "       id_map AS im ON im.household_id =tm.household_id \n",
    "       where im.district_id=36\n",
    "    \"\"\"\n",
    "    \n",
    "    #Read Query results into df\n",
    "    df= pd.read_sql(query, con, index_col='b_id')\n",
    "    \n",
    "    #List post_eq data data\n",
    "    drop_cols=[col for col in df.columns if 'post_eq' in col]\n",
    "    \n",
    "    #binary classification\n",
    "    df['damage_grade']=df['damage_grade'].str.split(' ',expand=True)[1].astype(int)\n",
    "    df['severity']=(df['damage_grade']>3).astype(int)\n",
    "    \n",
    "    #Drop cols for binary classification\n",
    "    drop_cols.append('damage_grade')\n",
    "    \n",
    "    #Drop cols for leakage/non relevance\n",
    "    drop_cols.append('building_id')\n",
    "    drop_cols.append('district_id')\n",
    "    drop_cols.append('vdcmun_id')\n",
    "    drop_cols.append('ward_id')\n",
    "    \n",
    "    #Drop cols\n",
    "    df.drop(columns=drop_cols, inplace=True)\n",
    "    \n",
    "    return df\n"
   ]
  },
  {
   "cell_type": "code",
   "execution_count": 45,
   "metadata": {},
   "outputs": [
    {
     "data": {
      "text/html": [
       "<div>\n",
       "<style scoped>\n",
       "    .dataframe tbody tr th:only-of-type {\n",
       "        vertical-align: middle;\n",
       "    }\n",
       "\n",
       "    .dataframe tbody tr th {\n",
       "        vertical-align: top;\n",
       "    }\n",
       "\n",
       "    .dataframe thead th {\n",
       "        text-align: right;\n",
       "    }\n",
       "</style>\n",
       "<table border=\"1\" class=\"dataframe\">\n",
       "  <thead>\n",
       "    <tr style=\"text-align: right;\">\n",
       "      <th></th>\n",
       "      <th>count_floors_pre_eq</th>\n",
       "      <th>age_building</th>\n",
       "      <th>plinth_area_sq_ft</th>\n",
       "      <th>height_ft_pre_eq</th>\n",
       "      <th>land_surface_condition</th>\n",
       "      <th>foundation_type</th>\n",
       "      <th>roof_type</th>\n",
       "      <th>ground_floor_type</th>\n",
       "      <th>other_floor_type</th>\n",
       "      <th>position</th>\n",
       "      <th>plan_configuration</th>\n",
       "      <th>superstructure</th>\n",
       "      <th>severity</th>\n",
       "    </tr>\n",
       "    <tr>\n",
       "      <th>b_id</th>\n",
       "      <th></th>\n",
       "      <th></th>\n",
       "      <th></th>\n",
       "      <th></th>\n",
       "      <th></th>\n",
       "      <th></th>\n",
       "      <th></th>\n",
       "      <th></th>\n",
       "      <th></th>\n",
       "      <th></th>\n",
       "      <th></th>\n",
       "      <th></th>\n",
       "      <th></th>\n",
       "    </tr>\n",
       "  </thead>\n",
       "  <tbody>\n",
       "    <tr>\n",
       "      <th>671455</th>\n",
       "      <td>1</td>\n",
       "      <td>40</td>\n",
       "      <td>336</td>\n",
       "      <td>6</td>\n",
       "      <td>Flat</td>\n",
       "      <td>Mud mortar-Stone/Brick</td>\n",
       "      <td>Bamboo/Timber-Light roof</td>\n",
       "      <td>Mud</td>\n",
       "      <td>Not applicable</td>\n",
       "      <td>Not attached</td>\n",
       "      <td>Rectangular</td>\n",
       "      <td>1</td>\n",
       "      <td>1</td>\n",
       "    </tr>\n",
       "    <tr>\n",
       "      <th>671456</th>\n",
       "      <td>2</td>\n",
       "      <td>12</td>\n",
       "      <td>420</td>\n",
       "      <td>13</td>\n",
       "      <td>Flat</td>\n",
       "      <td>Mud mortar-Stone/Brick</td>\n",
       "      <td>Bamboo/Timber-Light roof</td>\n",
       "      <td>Mud</td>\n",
       "      <td>TImber/Bamboo-Mud</td>\n",
       "      <td>Not attached</td>\n",
       "      <td>Rectangular</td>\n",
       "      <td>1</td>\n",
       "      <td>0</td>\n",
       "    </tr>\n",
       "    <tr>\n",
       "      <th>671457</th>\n",
       "      <td>3</td>\n",
       "      <td>20</td>\n",
       "      <td>560</td>\n",
       "      <td>18</td>\n",
       "      <td>Flat</td>\n",
       "      <td>Mud mortar-Stone/Brick</td>\n",
       "      <td>Bamboo/Timber-Light roof</td>\n",
       "      <td>Mud</td>\n",
       "      <td>TImber/Bamboo-Mud</td>\n",
       "      <td>Not attached</td>\n",
       "      <td>Rectangular</td>\n",
       "      <td>1</td>\n",
       "      <td>0</td>\n",
       "    </tr>\n",
       "    <tr>\n",
       "      <th>671458</th>\n",
       "      <td>2</td>\n",
       "      <td>15</td>\n",
       "      <td>390</td>\n",
       "      <td>12</td>\n",
       "      <td>Flat</td>\n",
       "      <td>Mud mortar-Stone/Brick</td>\n",
       "      <td>Bamboo/Timber-Light roof</td>\n",
       "      <td>Mud</td>\n",
       "      <td>TImber/Bamboo-Mud</td>\n",
       "      <td>Not attached</td>\n",
       "      <td>Rectangular</td>\n",
       "      <td>1</td>\n",
       "      <td>1</td>\n",
       "    </tr>\n",
       "    <tr>\n",
       "      <th>671459</th>\n",
       "      <td>2</td>\n",
       "      <td>15</td>\n",
       "      <td>290</td>\n",
       "      <td>13</td>\n",
       "      <td>Flat</td>\n",
       "      <td>Mud mortar-Stone/Brick</td>\n",
       "      <td>Bamboo/Timber-Light roof</td>\n",
       "      <td>Mud</td>\n",
       "      <td>TImber/Bamboo-Mud</td>\n",
       "      <td>Not attached</td>\n",
       "      <td>Square</td>\n",
       "      <td>1</td>\n",
       "      <td>1</td>\n",
       "    </tr>\n",
       "  </tbody>\n",
       "</table>\n",
       "</div>"
      ],
      "text/plain": [
       "        count_floors_pre_eq  age_building  plinth_area_sq_ft  \\\n",
       "b_id                                                           \n",
       "671455                    1            40                336   \n",
       "671456                    2            12                420   \n",
       "671457                    3            20                560   \n",
       "671458                    2            15                390   \n",
       "671459                    2            15                290   \n",
       "\n",
       "        height_ft_pre_eq land_surface_condition         foundation_type  \\\n",
       "b_id                                                                      \n",
       "671455                 6                   Flat  Mud mortar-Stone/Brick   \n",
       "671456                13                   Flat  Mud mortar-Stone/Brick   \n",
       "671457                18                   Flat  Mud mortar-Stone/Brick   \n",
       "671458                12                   Flat  Mud mortar-Stone/Brick   \n",
       "671459                13                   Flat  Mud mortar-Stone/Brick   \n",
       "\n",
       "                       roof_type ground_floor_type   other_floor_type  \\\n",
       "b_id                                                                    \n",
       "671455  Bamboo/Timber-Light roof               Mud     Not applicable   \n",
       "671456  Bamboo/Timber-Light roof               Mud  TImber/Bamboo-Mud   \n",
       "671457  Bamboo/Timber-Light roof               Mud  TImber/Bamboo-Mud   \n",
       "671458  Bamboo/Timber-Light roof               Mud  TImber/Bamboo-Mud   \n",
       "671459  Bamboo/Timber-Light roof               Mud  TImber/Bamboo-Mud   \n",
       "\n",
       "            position plan_configuration superstructure  severity  \n",
       "b_id                                                              \n",
       "671455  Not attached        Rectangular              1         1  \n",
       "671456  Not attached        Rectangular              1         0  \n",
       "671457  Not attached        Rectangular              1         0  \n",
       "671458  Not attached        Rectangular              1         1  \n",
       "671459  Not attached             Square              1         1  "
      ]
     },
     "execution_count": 45,
     "metadata": {},
     "output_type": "execute_result"
    }
   ],
   "source": [
    "df=wrangle('./nepalDB.db')\n",
    "df.head()"
   ]
  },
  {
   "cell_type": "code",
   "execution_count": 50,
   "metadata": {},
   "outputs": [
    {
     "name": "stdout",
     "output_type": "stream",
     "text": [
      "<class 'pandas.core.frame.DataFrame'>\n",
      "Int64Index: 75883 entries, 671455 to 747365\n",
      "Data columns (total 13 columns):\n",
      " #   Column                  Non-Null Count  Dtype \n",
      "---  ------                  --------------  ----- \n",
      " 0   count_floors_pre_eq     75883 non-null  int64 \n",
      " 1   age_building            75883 non-null  int64 \n",
      " 2   plinth_area_sq_ft       75883 non-null  int64 \n",
      " 3   height_ft_pre_eq        75883 non-null  int64 \n",
      " 4   land_surface_condition  75883 non-null  object\n",
      " 5   foundation_type         75883 non-null  object\n",
      " 6   roof_type               75883 non-null  object\n",
      " 7   ground_floor_type       75883 non-null  object\n",
      " 8   other_floor_type        75883 non-null  object\n",
      " 9   position                75883 non-null  object\n",
      " 10  plan_configuration      75883 non-null  object\n",
      " 11  superstructure          75883 non-null  object\n",
      " 12  severity                75883 non-null  int32 \n",
      "dtypes: int32(1), int64(4), object(8)\n",
      "memory usage: 7.8+ MB\n"
     ]
    }
   ],
   "source": [
    "df.info()"
   ]
  },
  {
   "cell_type": "code",
   "execution_count": 51,
   "metadata": {},
   "outputs": [
    {
     "data": {
      "text/plain": [
       "1    47885\n",
       "0    27998\n",
       "Name: severity, dtype: int64"
      ]
     },
     "execution_count": 51,
     "metadata": {},
     "output_type": "execute_result"
    }
   ],
   "source": [
    "df['severity'].value_counts()"
   ]
  },
  {
   "attachments": {},
   "cell_type": "markdown",
   "metadata": {},
   "source": [
    "### Explore"
   ]
  },
  {
   "cell_type": "code",
   "execution_count": 48,
   "metadata": {},
   "outputs": [
    {
     "name": "stdout",
     "output_type": "stream",
     "text": [
      "                     count_floors_pre_eq  age_building  plinth_area_sq_ft  \\\n",
      "count_floors_pre_eq             1.000000      0.054395           0.245652   \n",
      "age_building                    0.054395      1.000000          -0.021963   \n",
      "plinth_area_sq_ft               0.245652     -0.021963           1.000000   \n",
      "height_ft_pre_eq                0.767730      0.035365           0.330765   \n",
      "\n",
      "                     height_ft_pre_eq  \n",
      "count_floors_pre_eq          0.767730  \n",
      "age_building                 0.035365  \n",
      "plinth_area_sq_ft            0.330765  \n",
      "height_ft_pre_eq             1.000000  \n"
     ]
    },
    {
     "data": {
      "image/png": "[encoded data removed]",
      "text/plain": [
       "<Figure size 640x480 with 2 Axes>"
      ]
     },
     "metadata": {},
     "output_type": "display_data"
    }
   ],
   "source": [
    "correlation=df.select_dtypes('number').drop(columns='severity').corr()\n",
    "print(correlation)\n",
    "sns.heatmap(correlation);"
   ]
  },
  {
   "attachments": {},
   "cell_type": "markdown",
   "metadata": {},
   "source": [
    "### Split"
   ]
  },
  {
   "attachments": {},
   "cell_type": "markdown",
   "metadata": {},
   "source": [
    "### Build Model"
   ]
  },
  {
   "attachments": {},
   "cell_type": "markdown",
   "metadata": {},
   "source": [
    "#### Baseline"
   ]
  },
  {
   "attachments": {},
   "cell_type": "markdown",
   "metadata": {},
   "source": [
    "#### Iterate"
   ]
  },
  {
   "attachments": {},
   "cell_type": "markdown",
   "metadata": {},
   "source": [
    "#### Evaluate"
   ]
  },
  {
   "attachments": {},
   "cell_type": "markdown",
   "metadata": {},
   "source": [
    "### Communicate"
   ]
  },
  {
   "cell_type": "markdown",
   "metadata": {},
   "source": []
  }
 ],
 "metadata": {
  "kernelspec": {
   "display_name": "Python 3",
   "language": "python",
   "name": "python3"
  },
  "language_info": {
   "codemirror_mode": {
    "name": "ipython",
    "version": 3
   },
   "file_extension": ".py",
   "mimetype": "text/x-python",
   "name": "python",
   "nbconvert_exporter": "python",
   "pygments_lexer": "ipython3",
   "version": "3.10.9 (tags/v3.10.9:1dd9be6, Dec  6 2022, 20:01:21) [MSC v.1934 64 bit (AMD64)]"
  },
  "orig_nbformat": 4,
  "vscode": {
   "interpreter": {
    "hash": "174ef937a28829811967978ceafd30b4556b1949c3c64fea724a28599c7d4227"
   }
  }
 },
 "nbformat": 4,
 "nbformat_minor": 2
}
